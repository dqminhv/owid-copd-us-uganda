{
  "nbformat": 4,
  "nbformat_minor": 0,
  "metadata": {
    "colab": {
      "provenance": [],
      "toc_visible": true,
      "mount_file_id": "https://github.com/dqminhv/owid-copd-us-uganda/blob/main/us_uganda_copd.ipynb",
      "authorship_tag": "ABX9TyMtS+DlTX7o//hicHET3H8F",
      "include_colab_link": true
    },
    "kernelspec": {
      "name": "python3",
      "display_name": "Python 3"
    },
    "language_info": {
      "name": "python"
    }
  },
  "cells": [
    {
      "cell_type": "markdown",
      "metadata": {
        "id": "view-in-github",
        "colab_type": "text"
      },
      "source": [
        "<a href=\"https://colab.research.google.com/github/dqminhv/owid-copd-us-uganda/blob/main/us_uganda_copd.ipynb\" target=\"_parent\"><img src=\"https://colab.research.google.com/assets/colab-badge.svg\" alt=\"Open In Colab\"/></a>"
      ]
    },
    {
      "cell_type": "markdown",
      "source": [
        "\n",
        "To calculate both the crude death rate and the age-standardized death rate for chronic obstructive pulmonary disease (COPD) for all ages in both the United States and Uganda for 2019, you would typically follow these steps:\n",
        "\n",
        "1. Obtain age-specific death rates from COPD for both the United States and Uganda\n",
        "in 2019. These data can usually be obtained from national health departments, statistical agencies, or international health organizations such as the World Health Organization (WHO).\n",
        "\n",
        "2. Calculate the crude death rate for COPD for each country by summing up the number of deaths from COPD for all age groups and dividing by the total population of the country for the same year. The formula for crude death rate is:\n",
        "\n",
        "where the result is typically expressed per 1,000 population.\n",
        "\n",
        "3. Calculate the age-standardized death rate for COPD for each country. Age-standardization allows for the comparison of death rates between populations with different age distributions by adjusting for age differences. This is important because the risk of death from COPD can vary by age. The age-standardized death rate is usually expressed per 100,000 population."
      ],
      "metadata": {
        "id": "4M_AiG556hbT"
      }
    },
    {
      "cell_type": "markdown",
      "source": [
        "# 1.Import packages and data\n",
        "\n",
        "\n",
        "\n"
      ],
      "metadata": {
        "id": "xMwkZhGbEsTL"
      }
    },
    {
      "cell_type": "code",
      "source": [
        "# Import required packages\n",
        "import pandas as pd\n",
        "import numpy as np\n",
        "import matplotlib.pyplot as plt\n",
        "import seaborn as sns"
      ],
      "metadata": {
        "id": "Rb4RG7-m83V5"
      },
      "execution_count": 1,
      "outputs": []
    },
    {
      "cell_type": "code",
      "source": [
        "# Create paths for each data files\n",
        "population_data_path = '/content/drive/MyDrive/Colab Notebooks/data/WPP2022_Population1JanuaryByAge5GroupSex_Medium.csv'\n",
        "age_specific_death_rates_of_copd_data_path = '/content/drive/MyDrive/Colab Notebooks/data/age-specific-death-rates-of-copd.csv'\n",
        "who_age_std_data_path = '/content/drive/MyDrive/Colab Notebooks/data/WHO_std_pop_dist.csv'"
      ],
      "metadata": {
        "id": "r9de6oFpMeJX"
      },
      "execution_count": 2,
      "outputs": []
    },
    {
      "cell_type": "code",
      "source": [
        "#Read the files into dataframes\n",
        "world_pop = pd.read_csv(population_data_path, low_memory=False)\n",
        "age_specific_death_rates_of_copd = pd.read_csv(age_specific_death_rates_of_copd_data_path)\n",
        "who_age_std = pd.read_csv(who_age_std_data_path)"
      ],
      "metadata": {
        "id": "ChCCspW981yk"
      },
      "execution_count": 3,
      "outputs": []
    },
    {
      "cell_type": "code",
      "source": [
        "#Create a data frame for US population in 2019 from the world population data\n",
        "us_pop_2019 = world_pop.loc[(world_pop['Location']=='United States of America') & (world_pop['Time']==2019)][['ISO2_code', 'AgeGrp', 'PopTotal']].reset_index(drop=True)"
      ],
      "metadata": {
        "id": "ZyDw_XpeBUo_"
      },
      "execution_count": 4,
      "outputs": []
    },
    {
      "cell_type": "code",
      "source": [
        "#Create a data frame for Uganda population in 2019 from the world population data\n",
        "uganda_pop_2019 = world_pop.loc[(world_pop['Location']=='Uganda') & (world_pop['Time']==2019)][['ISO2_code', 'AgeGrp', 'PopTotal']].reset_index(drop=True)"
      ],
      "metadata": {
        "id": "pBEbCBJVDMxD"
      },
      "execution_count": 5,
      "outputs": []
    },
    {
      "cell_type": "markdown",
      "source": [
        "# 2.Grouping age groups from 85+ together"
      ],
      "metadata": {
        "id": "gBtWwWZ5Eb6H"
      }
    },
    {
      "cell_type": "markdown",
      "source": [
        "In the UN World Population data, ages above 85 are divided into smaller subgroups, whereas the WHO Standard Population and Table of age-specific death rates of COPD group all ages above 85 into a single category. Therefore, we must consolidate the age groups above 85 in the UN World Population data into a single group labeled 85+."
      ],
      "metadata": {
        "id": "UuTGeOVMUFL6"
      }
    },
    {
      "cell_type": "markdown",
      "source": [
        "## a. United States"
      ],
      "metadata": {
        "id": "FsGtEr0wQ7gq"
      }
    },
    {
      "cell_type": "code",
      "source": [
        "# 85+ row data by summing up all age groups above 85\n",
        "us_85_pop = us_pop_2019['PopTotal'][-4:].sum()\n",
        "us_85 = pd.DataFrame({'ISO2_code': ['US'], 'AgeGrp': ['85+'], 'PopTotal': [us_85_pop]})\n",
        "\n",
        "# Add the new row\n",
        "us_pop_2019 = pd.concat([us_pop_2019, us_85], ignore_index=True)"
      ],
      "metadata": {
        "id": "bmOQeOo2FnS6"
      },
      "execution_count": 6,
      "outputs": []
    },
    {
      "cell_type": "code",
      "source": [
        "#Remove rows 17 to 20, which are the groups of 85-89, 90-94, 95-99, 100+\n",
        "us_pop_2019.drop(index=[17, 18, 19, 20], inplace=True)\n",
        "us_pop_2019.reset_index(drop=True, inplace=True)"
      ],
      "metadata": {
        "id": "06A3Hv91H8RI"
      },
      "execution_count": 7,
      "outputs": []
    },
    {
      "cell_type": "markdown",
      "source": [
        "## b.Uganda"
      ],
      "metadata": {
        "id": "K4HI0xuvQ98g"
      }
    },
    {
      "cell_type": "code",
      "source": [
        "# 85+ row data by summing up all age groups above 85\n",
        "uganda_85_pop = uganda_pop_2019['PopTotal'][-4:].sum()\n",
        "uganda_85 = pd.DataFrame({'ISO2_code': ['UG'], 'AgeGrp': ['85+'], 'PopTotal': [uganda_85_pop]})\n",
        "\n",
        "# Add the new row\n",
        "uganda_pop_2019 = pd.concat([uganda_pop_2019, uganda_85], ignore_index=True)"
      ],
      "metadata": {
        "id": "yfN3oSqUQ_k6"
      },
      "execution_count": 8,
      "outputs": []
    },
    {
      "cell_type": "code",
      "source": [
        "#Remove rows 17 to 20, which are the groups of 85-89, 90-94, 95-99, 100+\n",
        "uganda_pop_2019.drop(index=[17, 18, 19, 20], inplace=True)\n",
        "uganda_pop_2019.reset_index(drop=True, inplace=True)"
      ],
      "metadata": {
        "id": "Z-DkRINERBJ6"
      },
      "execution_count": 9,
      "outputs": []
    },
    {
      "cell_type": "markdown",
      "source": [
        "# 3.Crude death rates by COPD"
      ],
      "metadata": {
        "id": "SM7VGdnZIWry"
      }
    },
    {
      "cell_type": "markdown",
      "source": [
        "## a. United States"
      ],
      "metadata": {
        "id": "of82wLSBROm_"
      }
    },
    {
      "cell_type": "code",
      "source": [
        "# Crude death rate = Total death / Total population\n",
        "us_crude_death_rate_2019 = \\\n",
        "(us_pop_2019['PopTotal'] * (age_specific_death_rates_of_copd['Death rate, United States, 2019'])).sum() / us_pop_2019['PopTotal'].sum()"
      ],
      "metadata": {
        "id": "wYZvFCB4Osz3"
      },
      "execution_count": 10,
      "outputs": []
    },
    {
      "cell_type": "code",
      "source": [
        "print('Crude death rate for COPD of the US in 2019 is {} per 100,000'.format(round(us_crude_death_rate_2019, 1)))"
      ],
      "metadata": {
        "id": "hrWyWhS1PA72",
        "outputId": "80593f69-6504-49e0-f5af-0f5b0497f15a",
        "colab": {
          "base_uri": "https://localhost:8080/"
        }
      },
      "execution_count": 11,
      "outputs": [
        {
          "output_type": "stream",
          "name": "stdout",
          "text": [
            "Crude death rate for COPD of the US in 2019 is 56.9 per 100,000\n"
          ]
        }
      ]
    },
    {
      "cell_type": "markdown",
      "source": [
        "## b. Uganda"
      ],
      "metadata": {
        "id": "bzPh7L3ERTUl"
      }
    },
    {
      "cell_type": "code",
      "source": [
        "# Crude death rate = Total death / Total population\n",
        "uganda_crude_death_rate_2019 = \\\n",
        "(uganda_pop_2019['PopTotal'] * (age_specific_death_rates_of_copd['Death rate, Uganda, 2019'])).sum() / uganda_pop_2019['PopTotal'].sum()"
      ],
      "metadata": {
        "id": "P3dw36N1RUuY"
      },
      "execution_count": 12,
      "outputs": []
    },
    {
      "cell_type": "code",
      "source": [
        "print('Crude death rate for COPD of Uganda in 2019 is {} per 100,000'.format(round(uganda_crude_death_rate_2019, 1)))"
      ],
      "metadata": {
        "id": "5FbkYPyQRbaH",
        "outputId": "d043ba43-02f3-4655-b56a-fc28a8970611",
        "colab": {
          "base_uri": "https://localhost:8080/"
        }
      },
      "execution_count": 13,
      "outputs": [
        {
          "output_type": "stream",
          "name": "stdout",
          "text": [
            "Crude death rate for COPD of Uganda in 2019 is 5.8 per 100,000\n"
          ]
        }
      ]
    },
    {
      "cell_type": "markdown",
      "source": [
        "#4.Age-standardized death rate for COPD"
      ],
      "metadata": {
        "id": "Md2PZ9a5Pmjm"
      }
    },
    {
      "cell_type": "markdown",
      "source": [
        "## a. United States"
      ],
      "metadata": {
        "id": "KaTb8jj7R7c5"
      }
    },
    {
      "cell_type": "code",
      "source": [
        "# Calculate the standardized population of each age group in the US\n",
        "# Formula: Standardized population of age group G = Total population * Age-standardized rate of group G\n",
        "us_pop_age_std_2019 = who_age_std['who-std']/100 * (us_pop_2019['PopTotal'].sum())"
      ],
      "metadata": {
        "id": "JBpF4NRnXFf5"
      },
      "execution_count": 14,
      "outputs": []
    },
    {
      "cell_type": "code",
      "source": [
        "# Age-standardize death rate = Total age-standardized death rate / Total population\n",
        "us_age_std_death_rate_2019 = \\\n",
        "(us_pop_age_std_2019 * (age_specific_death_rates_of_copd['Death rate, United States, 2019'])).sum() / us_pop_2019['PopTotal'].sum()"
      ],
      "metadata": {
        "id": "JyDzvL2-PrtB"
      },
      "execution_count": 15,
      "outputs": []
    },
    {
      "cell_type": "code",
      "source": [
        "# Print the result\n",
        "print('Age-standardized death rate for COPD of the US in 2019 is {} per 100,000'.format(round(us_age_std_death_rate_2019, 1)))"
      ],
      "metadata": {
        "id": "w8rJm5jVQwaW",
        "outputId": "4b10fff4-da70-4917-febd-c18c3922a561",
        "colab": {
          "base_uri": "https://localhost:8080/"
        }
      },
      "execution_count": 16,
      "outputs": [
        {
          "output_type": "stream",
          "name": "stdout",
          "text": [
            "Age-standardized death rate for COPD of the US in 2019 is 28.4 per 100,000\n"
          ]
        }
      ]
    },
    {
      "cell_type": "markdown",
      "source": [
        "## b. Uganda"
      ],
      "metadata": {
        "id": "xobQTaoTR-hQ"
      }
    },
    {
      "cell_type": "code",
      "source": [
        "# Calculate the standardized population of each age group in Uganda\n",
        "# Formula: Standardized population of age group G = Total population * Age-standardized rate of group G\n",
        "uganda_pop_age_std_2019 = who_age_std['who-std']/100 * (uganda_pop_2019['PopTotal'].sum())"
      ],
      "metadata": {
        "id": "MaTSP8QaZeDY"
      },
      "execution_count": 17,
      "outputs": []
    },
    {
      "cell_type": "code",
      "source": [
        "# Age-standardize death rate = Total age-standardized death rate / Total population\n",
        "uganda_age_std_death_rate_2019 = \\\n",
        "(uganda_pop_age_std_2019 * (age_specific_death_rates_of_copd['Death rate, Uganda, 2019'])).sum() / uganda_pop_2019['PopTotal'].sum()"
      ],
      "metadata": {
        "id": "t95zWh1oSAGz"
      },
      "execution_count": 18,
      "outputs": []
    },
    {
      "cell_type": "code",
      "source": [
        "print('Age-standardized death rate for COPD of Uganda in 2019 is {} per 100,000'.format(round(uganda_age_std_death_rate_2019, 1)))"
      ],
      "metadata": {
        "id": "IRjuH52GSCbH",
        "outputId": "296b2c24-1bf7-4ce2-b0dc-82389c15829f",
        "colab": {
          "base_uri": "https://localhost:8080/"
        }
      },
      "execution_count": 19,
      "outputs": [
        {
          "output_type": "stream",
          "name": "stdout",
          "text": [
            "Age-standardized death rate for COPD of Uganda in 2019 is 28.7 per 100,000\n"
          ]
        }
      ]
    }
  ]
}